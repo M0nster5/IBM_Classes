{
 "cells": [
  {
   "cell_type": "markdown",
   "metadata": {},
   "source": [
    "<a href=\"https://www.bigdatauniversity.com\"><img src=\"https://ibm.box.com/shared/static/qo20b88v1hbjztubt06609ovs85q8fau.png\" width=\"400px\"  align=\"center\"></a>\n",
    "<h1 align=\"center\"><font size=\"5\">LOGISTIC REGRESSION WITH TENSORFLOW</font></h1>"
   ]
  },
  {
   "cell_type": "markdown",
   "metadata": {},
   "source": [
    "## Table of Contents\n",
    "\n",
    "Logistic Regression is one of most important techniques in data science. It is usually used to solve the classic classification problem.\n",
    "\n",
    "<div class=\"alert alert-block alert-info\" style=\"margin-top: 20px\">\n",
    "<font size = 3><strong>This lesson covers the following concepts of Logistics Regression:</strong></font>\n",
    "<br>\n",
    "<h2>Table of Contents</h2>\n",
    "\n",
    "<ol>\n",
    "    <li><a href=\"#ref1\">Linear Regression vs Logistic Regression</a></li>\n",
    "    <li><a href=\"#ref2\">Utilizing Logistic Regression in TensorFlow</a></li>\n",
    "    <li><a href=\"#ref3\">Training</a></li>\n",
    "</ol>    \n",
    "</div>\n",
    "<p></p>\n",
    "<br>\n",
    "\n",
    "<hr>"
   ]
  },
  {
   "cell_type": "markdown",
   "metadata": {},
   "source": [
    "<a id=\"ref1\"></a>\n",
    "<h2>What is different between Linear and Logistic Regression?</h2>\n",
    "\n",
    "While Linear Regression is suited for estimating continuous values (e.g. estimating house price), it is n0t the best tool for predicting the class in which an observed data point belongs. In order to provide estimate for classification, we need some sort of guidance on what would be the <b>most probable class</b> for that data point. For this, we use <b>Logistic Regression</b>.\n",
    "\n",
    "<div class=\"alert alert-success alertsuccess\" style=\"margin-top: 20px\">\n",
    "<font size=\"3\"><strong>Recall linear regression:</strong></font>\n",
    "<br>\n",
    "<br>\n",
    "Linear regression finds a function that relates a continuous dependent variable, <i>y</i>, to some predictors (independent variables <i>x1</i>, <i>x2</i>, etc.). Simple linear regression assumes a function of the form:\n",
    "<br><br>\n",
    "$$\n",
    "y = w0 + w1 \\times x1 + w2 \\times x2 + \\cdots\n",
    "$$\n",
    "<br>\n",
    "and finds the values of <i>w0</i>, <i>w1</i>, <i>w2</i>, etc. The term <i>w0</i> is the \"intercept\" or \"constant term\" (it's shown as <i>b</i> in the formula below):\n",
    "<br><br>\n",
    "$$\n",
    "Y = W X + b\n",
    "$$\n",
    "<p></p>\n",
    "\n",
    "</div>\n",
    "\n",
    "Logistic Regression is a variation of Linear Regression, useful when the observed dependent variable, <i>y</i>, is categorical. It produces a formula that predicts the probability of the class label as a function of the independent variables.\n",
    "\n",
    "Despite the name logistic <i>regression</i>, it is actually a <b>probabilistic classification</b> model. Logistic regression fits a special s-shaped curve by taking the linear regression and transforming the numeric estimate into a probability with the following function:\n",
    "\n",
    "$$\n",
    "ProbabilityOfaClass = \\theta(y) = \\frac{e^y}{1 + e^y} = exp(y) / (1 + exp(y)) = p \n",
    "$$\n",
    "\n",
    "which produces p-values between 0 (as y approaches minus infinity $-\\infty$) and 1 (as y approaches plus infinity $+\\infty$). This now becomes a special kind of non-linear regression.\n",
    "\n",
    "In this equation, <i>y</i> is the regression result (the sum of the variables weighted by the coefficients), <code>exp</code> is the exponential function and $\\theta(y)$ is the <a href=\"http://en.wikipedia.org/wiki/Logistic_function\">logistic function</a>, also called logistic curve. It is a common \"S\" shape (sigmoid curve), and was first developed for modeling population growth.\n",
    "\n",
    "You might also have seen this function before, in another configuration:\n",
    "\n",
    "$$\n",
    "ProbabilityOfaClass = \\theta(y) = \\frac{1}{1+e^{-y}}\n",
    "$$\n",
    "\n",
    "So, briefly, Logistic Regression passes the input through the logistic/sigmoid function but then treats the result as a probability:\n",
    "\n",
    "<img src=\"https://ibm.box.com/shared/static/kgv9alcghmjcv97op4d6onkyxevk23b1.png\" width=\"400\" align=\"center\">\n"
   ]
  },
  {
   "cell_type": "markdown",
   "metadata": {},
   "source": [
    "-------------------------------"
   ]
  },
  {
   "cell_type": "markdown",
   "metadata": {},
   "source": [
    "<a id=\"ref2\"></a>\n",
    "<h2>Utilizing Logistic Regression in TensorFlow</h2>\n",
    "\n",
    "For us to utilize Logistic Regression in TensorFlow, we first need to import the required libraries. To do so, you can run the code cell below."
   ]
  },
  {
   "cell_type": "code",
   "execution_count": 1,
   "metadata": {},
   "outputs": [
    {
     "name": "stderr",
     "output_type": "stream",
     "text": [
      "/home/jupyterlab/conda/envs/python/lib/python3.6/site-packages/tensorflow/python/framework/dtypes.py:519: FutureWarning: Passing (type, 1) or '1type' as a synonym of type is deprecated; in a future version of numpy, it will be understood as (type, (1,)) / '(1,)type'.\n",
      "  _np_qint8 = np.dtype([(\"qint8\", np.int8, 1)])\n",
      "/home/jupyterlab/conda/envs/python/lib/python3.6/site-packages/tensorflow/python/framework/dtypes.py:520: FutureWarning: Passing (type, 1) or '1type' as a synonym of type is deprecated; in a future version of numpy, it will be understood as (type, (1,)) / '(1,)type'.\n",
      "  _np_quint8 = np.dtype([(\"quint8\", np.uint8, 1)])\n",
      "/home/jupyterlab/conda/envs/python/lib/python3.6/site-packages/tensorflow/python/framework/dtypes.py:521: FutureWarning: Passing (type, 1) or '1type' as a synonym of type is deprecated; in a future version of numpy, it will be understood as (type, (1,)) / '(1,)type'.\n",
      "  _np_qint16 = np.dtype([(\"qint16\", np.int16, 1)])\n",
      "/home/jupyterlab/conda/envs/python/lib/python3.6/site-packages/tensorflow/python/framework/dtypes.py:522: FutureWarning: Passing (type, 1) or '1type' as a synonym of type is deprecated; in a future version of numpy, it will be understood as (type, (1,)) / '(1,)type'.\n",
      "  _np_quint16 = np.dtype([(\"quint16\", np.uint16, 1)])\n",
      "/home/jupyterlab/conda/envs/python/lib/python3.6/site-packages/tensorflow/python/framework/dtypes.py:523: FutureWarning: Passing (type, 1) or '1type' as a synonym of type is deprecated; in a future version of numpy, it will be understood as (type, (1,)) / '(1,)type'.\n",
      "  _np_qint32 = np.dtype([(\"qint32\", np.int32, 1)])\n",
      "/home/jupyterlab/conda/envs/python/lib/python3.6/site-packages/tensorflow/python/framework/dtypes.py:528: FutureWarning: Passing (type, 1) or '1type' as a synonym of type is deprecated; in a future version of numpy, it will be understood as (type, (1,)) / '(1,)type'.\n",
      "  np_resource = np.dtype([(\"resource\", np.ubyte, 1)])\n"
     ]
    }
   ],
   "source": [
    "import tensorflow as tf\n",
    "import pandas as pd\n",
    "import numpy as np\n",
    "import time\n",
    "from sklearn.datasets import load_iris\n",
    "from sklearn.model_selection import train_test_split\n",
    "import matplotlib.pyplot as plt"
   ]
  },
  {
   "cell_type": "markdown",
   "metadata": {},
   "source": [
    "Next, we will load the dataset we are going to use. In this case, we are utilizing the <code>iris</code> dataset, which is inbuilt -- so there's no need to do any preprocessing and we can jump right into manipulating it. We separate the dataset into <i>xs</i> and <i>ys</i>, and then into training <i>xs</i> and <i>ys</i> and testing <i>xs</i> and <i>ys</i>, (pseudo)randomly."
   ]
  },
  {
   "cell_type": "markdown",
   "metadata": {},
   "source": [
    "<h3>Understanding the Data</h3>\n",
    "\n",
    "<h4><code>Iris Dataset</code>:</h4>\n",
    "This dataset was introduced by British Statistician and Biologist Ronald Fisher, it consists of 50 samples from each of three species of Iris (Iris setosa, Iris virginica and Iris versicolor). In total it has 150 records under five attributes - petal length, petal width, sepal length, sepal width and species. <a href=\"https://archive.ics.uci.edu/ml/datasets/iris\">Dataset source</a>\n",
    "\n",
    "Attributes\n",
    "Independent Variable\n",
    "<ul>\n",
    "    <li>petal length</li>\n",
    "    <li>petal width</li>\n",
    "    <li>sepal length</li>\n",
    "    <li>sepal width</li>\n",
    "</ul>\n",
    "Dependent Variable\n",
    "<ul>    \n",
    "    <li>Species\n",
    "        <ul>\n",
    "            <li>Iris setosa</li>\n",
    "            <li>Iris virginica</li>\n",
    "            <li>Iris versicolor</li>\n",
    "        </ul>\n",
    "    </li>\n",
    "</ul>\n",
    "<br>"
   ]
  },
  {
   "cell_type": "code",
   "execution_count": 2,
   "metadata": {},
   "outputs": [],
   "source": [
    "iris = load_iris()\n",
    "iris_X, iris_y = iris.data[:-1,:], iris.target[:-1]\n",
    "iris_y= pd.get_dummies(iris_y).values\n",
    "trainX, testX, trainY, testY = train_test_split(iris_X, iris_y, test_size=0.33, random_state=42)"
   ]
  },
  {
   "cell_type": "markdown",
   "metadata": {},
   "source": [
    "Now we define x and y. These placeholders will hold our iris data (both the features and label matrices), and help pass them along to different parts of the algorithm. You can consider placeholders as empty shells into which we insert our data. We also need to give them shapes which correspond to the shape of our data. Later, we will insert data into these placeholders by “feeding” the placeholders the data via a “feed_dict” (Feed Dictionary).\n",
    "\n",
    "<h3>Why use Placeholders?</h3>\n",
    "\n",
    "<ol>\n",
    "    <li>This feature of TensorFlow allows us to create an algorithm which accepts data and knows something about the shape of the data without knowing the amount of data going in.</li>\n",
    "    <li>When we insert “batches” of data in training, we can easily adjust how many examples we train on in a single step without changing the entire algorithm.</li>\n",
    "</ol>"
   ]
  },
  {
   "cell_type": "code",
   "execution_count": 3,
   "metadata": {},
   "outputs": [],
   "source": [
    "# numFeatures is the number of features in our input data.\n",
    "# In the iris dataset, this number is '4'.\n",
    "numFeatures = trainX.shape[1]\n",
    "\n",
    "# numLabels is the number of classes our data points can be in.\n",
    "# In the iris dataset, this number is '3'.\n",
    "numLabels = trainY.shape[1]\n",
    "\n",
    "\n",
    "# Placeholders\n",
    "# 'None' means TensorFlow shouldn't expect a fixed number in that dimension\n",
    "X = tf.placeholder(tf.float32, [None, numFeatures]) # Iris has 4 features, so X is a tensor to hold our data.\n",
    "yGold = tf.placeholder(tf.float32, [None, numLabels]) # This will be our correct answers matrix for 3 classes."
   ]
  },
  {
   "cell_type": "markdown",
   "metadata": {},
   "source": [
    "<h3>Set model weights and bias</h3>\n",
    "\n",
    "Much like Linear Regression, we need a shared variable weight matrix for Logistic Regression. We initialize both <code>W</code> and <code>b</code> as tensors full of zeros. Since we are going to learn <code>W</code> and <code>b</code>, their initial value does not matter too much. These variables are the objects which define the structure of our regression model, and we can save them after they have been trained so we can reuse them later.\n",
    "\n",
    "We define two TensorFlow variables as our parameters. These variables will hold the weights and biases of our logistic regression and they will be continually updated during training. \n",
    "\n",
    "Notice that <code>W</code> has a shape of [4, 3] because we want to multiply the 4-dimensional input vectors by it to produce 3-dimensional vectors of evidence for the difference classes. <code>b</code> has a shape of [3] so we can add it to the output. Moreover, unlike our placeholders above which are essentially empty shells waiting to be fed data, TensorFlow variables need to be initialized with values, e.g. with zeros."
   ]
  },
  {
   "cell_type": "code",
   "execution_count": 4,
   "metadata": {},
   "outputs": [],
   "source": [
    "W = tf.Variable(tf.zeros([4, 3]))  # 4-dimensional input and  3 classes\n",
    "b = tf.Variable(tf.zeros([3])) # 3-dimensional output [0,0,1],[0,1,0],[1,0,0]"
   ]
  },
  {
   "cell_type": "code",
   "execution_count": 5,
   "metadata": {},
   "outputs": [],
   "source": [
    "#Randomly sample from a normal distribution with standard deviation .01\n",
    "\n",
    "weights = tf.Variable(tf.random_normal([numFeatures,numLabels],\n",
    "                                       mean=0,\n",
    "                                       stddev=0.01,\n",
    "                                       name=\"weights\"))\n",
    "\n",
    "bias = tf.Variable(tf.random_normal([1,numLabels],\n",
    "                                    mean=0,\n",
    "                                    stddev=0.01,\n",
    "                                    name=\"bias\"))"
   ]
  },
  {
   "cell_type": "markdown",
   "metadata": {},
   "source": [
    "<h3>Logistic Regression model</h3>\n",
    "\n",
    "We now define our operations in order to properly run the Logistic Regression. Logistic regression is typically thought of as a single equation:\n",
    "\n",
    "$$\n",
    "ŷ =sigmoid(WX+b)\n",
    "$$\n",
    "\n",
    "However, for the sake of clarity, we can have it broken into its three main components: \n",
    "- a weight times features matrix multiplication operation, \n",
    "- a summation of the weighted features and a bias term, \n",
    "- and finally the application of a sigmoid function. \n",
    "\n",
    "As such, you will find these components defined as three separate operations below.\n"
   ]
  },
  {
   "cell_type": "code",
   "execution_count": 6,
   "metadata": {},
   "outputs": [],
   "source": [
    "# Three-component breakdown of the Logistic Regression equation.\n",
    "# Note that these feed into each other.\n",
    "apply_weights_OP = tf.matmul(X, weights, name=\"apply_weights\")\n",
    "add_bias_OP = tf.add(apply_weights_OP, bias, name=\"add_bias\") \n",
    "activation_OP = tf.nn.sigmoid(add_bias_OP, name=\"activation\")"
   ]
  },
  {
   "cell_type": "markdown",
   "metadata": {},
   "source": [
    "As we have seen before, the function we are going to use is the <i>logistic function</i> $(\\frac{1}{1+e^{-Wx}})$, which is fed the input data after applying weights and bias. In TensorFlow, this function is implemented as the <code>nn.sigmoid</code> function. Effectively, this fits the weighted input with bias into a 0-100 percent curve, which is the probability function we want."
   ]
  },
  {
   "cell_type": "markdown",
   "metadata": {},
   "source": [
    "<hr>"
   ]
  },
  {
   "cell_type": "markdown",
   "metadata": {},
   "source": [
    "<a id=\"ref3\"></a>\n",
    "<h2>Training</h2>\n",
    "\n",
    "The learning algorithm is how we search for the best weight vector (${\\bf w}$). This search is an optimization problem looking for the hypothesis that optimizes an error/cost measure.\n",
    "\n",
    "<b>What tell us our model is bad?</b>  \n",
    "The Cost or Loss of the model, so what we want is to minimize that. \n",
    "\n",
    "<b>What is the cost function in our model?</b>  \n",
    "The cost function we are going to utilize is the Squared Mean Error loss function.\n",
    "\n",
    "<b>How to minimize the cost function?</b>   \n",
    "We can't use <b>least-squares linear regression</b> here, so we will use <a href=\"http://en.wikipedia.org/wiki/Gradient_descent\">gradient descent</a> instead. Specifically, we will use batch gradient descent which calculates the gradient from all data points in the data set.\n",
    "\n",
    "<h3>Cost function</h3>\n",
    "Before defining our cost function, we need to define how long we are going to train and how should we define the learning rate."
   ]
  },
  {
   "cell_type": "code",
   "execution_count": 14,
   "metadata": {},
   "outputs": [],
   "source": [
    "# Number of Epochs in our training\n",
    "numEpochs = 2000\n",
    "\n",
    "# Defining our learning rate iterations (decay)\n",
    "learningRate = tf.train.exponential_decay(learning_rate=0.0008,\n",
    "                                          global_step= 1,\n",
    "                                          decay_steps=trainX.shape[0],\n",
    "                                          decay_rate= 0.95,\n",
    "                                          staircase=True)"
   ]
  },
  {
   "cell_type": "code",
   "execution_count": 15,
   "metadata": {},
   "outputs": [],
   "source": [
    "#Defining our cost function - Squared Mean Error\n",
    "cost_OP = tf.nn.l2_loss(activation_OP-yGold, name=\"squared_error_cost\")\n",
    "\n",
    "#Defining our Gradient Descent\n",
    "training_OP = tf.train.GradientDescentOptimizer(learningRate).minimize(cost_OP)"
   ]
  },
  {
   "cell_type": "markdown",
   "metadata": {},
   "source": [
    "Now we move on to actually running our operations. We will start with the operations involved in the prediction phase (i.e. the logistic regression itself).\n",
    "\n",
    "First, we need to initialize our weights and biases with zeros or random values via the inbuilt Initialization Op, <b>tf.initialize_all_variables()</b>. This Initialization Op will become a node in our computational graph, and when we put the graph into a session, then the Op will run and create the variables."
   ]
  },
  {
   "cell_type": "code",
   "execution_count": 16,
   "metadata": {},
   "outputs": [],
   "source": [
    "# Create a tensorflow session\n",
    "sess = tf.Session()\n",
    "\n",
    "# Initialize our weights and biases variables.\n",
    "init_OP = tf.global_variables_initializer()\n",
    "\n",
    "# Initialize all tensorflow variables\n",
    "sess.run(init_OP)"
   ]
  },
  {
   "cell_type": "markdown",
   "metadata": {},
   "source": [
    "We also want some additional operations to keep track of our model's efficiency over time. We can do this like so:"
   ]
  },
  {
   "cell_type": "code",
   "execution_count": 17,
   "metadata": {},
   "outputs": [],
   "source": [
    "# argmax(activation_OP, 1) returns the label with the most probability\n",
    "# argmax(yGold, 1) is the correct label\n",
    "correct_predictions_OP = tf.equal(tf.argmax(activation_OP,1),tf.argmax(yGold,1))\n",
    "\n",
    "# If every false prediction is 0 and every true prediction is 1, the average returns us the accuracy\n",
    "accuracy_OP = tf.reduce_mean(tf.cast(correct_predictions_OP, \"float\"))\n",
    "\n",
    "# Summary op for regression output\n",
    "activation_summary_OP = tf.summary.histogram(\"output\", activation_OP)\n",
    "\n",
    "# Summary op for accuracy\n",
    "accuracy_summary_OP = tf.summary.scalar(\"accuracy\", accuracy_OP)\n",
    "\n",
    "# Summary op for cost\n",
    "cost_summary_OP = tf.summary.scalar(\"cost\", cost_OP)\n",
    "\n",
    "# Summary ops to check how variables (W, b) are updating after each iteration\n",
    "weightSummary = tf.summary.histogram(\"weights\", weights.eval(session=sess))\n",
    "biasSummary = tf.summary.histogram(\"biases\", bias.eval(session=sess))\n",
    "\n",
    "# Merge all summaries\n",
    "merged = tf.summary.merge([activation_summary_OP, accuracy_summary_OP, cost_summary_OP, weightSummary, biasSummary])\n",
    "\n",
    "# Summary writer\n",
    "writer = tf.summary.FileWriter(\"summary_logs\", sess.graph)"
   ]
  },
  {
   "cell_type": "markdown",
   "metadata": {},
   "source": [
    "Now we can define and run the actual training loop, like this:"
   ]
  },
  {
   "cell_type": "code",
   "execution_count": 18,
   "metadata": {},
   "outputs": [
    {
     "name": "stdout",
     "output_type": "stream",
     "text": [
      "step 0, training accuracy 0.333333, cost 34.1046, change in cost 34.1046\n",
      "step 10, training accuracy 0.585859, cost 30.0882, change in cost 4.01635\n",
      "step 20, training accuracy 0.646465, cost 28.1468, change in cost 1.94139\n",
      "step 30, training accuracy 0.646465, cost 26.507, change in cost 1.63987\n",
      "step 40, training accuracy 0.646465, cost 25.1438, change in cost 1.36314\n",
      "step 50, training accuracy 0.646465, cost 24.0174, change in cost 1.12641\n",
      "step 60, training accuracy 0.646465, cost 23.0849, change in cost 0.932474\n",
      "step 70, training accuracy 0.646465, cost 22.3081, change in cost 0.776869\n",
      "step 80, training accuracy 0.646465, cost 21.6551, change in cost 0.652958\n",
      "step 90, training accuracy 0.646465, cost 21.1009, change in cost 0.554245\n",
      "step 100, training accuracy 0.656566, cost 20.6256, change in cost 0.475243\n",
      "step 110, training accuracy 0.666667, cost 20.2141, change in cost 0.411554\n",
      "step 120, training accuracy 0.666667, cost 19.8543, change in cost 0.359793\n",
      "step 130, training accuracy 0.666667, cost 19.5369, change in cost 0.317356\n",
      "step 140, training accuracy 0.666667, cost 19.2547, change in cost 0.282248\n",
      "step 150, training accuracy 0.666667, cost 19.0017, change in cost 0.252964\n",
      "step 160, training accuracy 0.676768, cost 18.7734, change in cost 0.228331\n",
      "step 170, training accuracy 0.686869, cost 18.5659, change in cost 0.207447\n",
      "step 180, training accuracy 0.69697, cost 18.3763, change in cost 0.189608\n",
      "step 190, training accuracy 0.707071, cost 18.202, change in cost 0.174269\n",
      "step 200, training accuracy 0.717172, cost 18.0411, change in cost 0.160982\n",
      "step 210, training accuracy 0.737374, cost 17.8917, change in cost 0.149406\n",
      "step 220, training accuracy 0.737374, cost 17.7524, change in cost 0.139263\n",
      "step 230, training accuracy 0.747475, cost 17.6221, change in cost 0.130323\n",
      "step 240, training accuracy 0.757576, cost 17.4997, change in cost 0.122396\n",
      "step 250, training accuracy 0.777778, cost 17.3843, change in cost 0.115349\n",
      "step 260, training accuracy 0.787879, cost 17.2753, change in cost 0.109035\n",
      "step 270, training accuracy 0.787879, cost 17.1719, change in cost 0.103365\n",
      "step 280, training accuracy 0.787879, cost 17.0737, change in cost 0.0982475\n",
      "step 290, training accuracy 0.787879, cost 16.9801, change in cost 0.0936184\n",
      "step 300, training accuracy 0.79798, cost 16.8907, change in cost 0.0894032\n",
      "step 310, training accuracy 0.79798, cost 16.8051, change in cost 0.085556\n",
      "step 320, training accuracy 0.79798, cost 16.7231, change in cost 0.0820332\n",
      "step 330, training accuracy 0.79798, cost 16.6443, change in cost 0.0787964\n",
      "step 340, training accuracy 0.808081, cost 16.5685, change in cost 0.0758152\n",
      "step 350, training accuracy 0.828283, cost 16.4954, change in cost 0.0730591\n",
      "step 360, training accuracy 0.828283, cost 16.4249, change in cost 0.0705051\n",
      "step 370, training accuracy 0.838384, cost 16.3568, change in cost 0.0681305\n",
      "step 380, training accuracy 0.838384, cost 16.2908, change in cost 0.0659237\n",
      "step 390, training accuracy 0.838384, cost 16.227, change in cost 0.063858\n",
      "step 400, training accuracy 0.848485, cost 16.1651, change in cost 0.0619221\n",
      "step 410, training accuracy 0.848485, cost 16.1049, change in cost 0.0601101\n",
      "step 420, training accuracy 0.848485, cost 16.0465, change in cost 0.0584068\n",
      "step 430, training accuracy 0.858586, cost 15.9897, change in cost 0.0568008\n",
      "step 440, training accuracy 0.868687, cost 15.9345, change in cost 0.0552864\n",
      "step 450, training accuracy 0.868687, cost 15.8806, change in cost 0.0538568\n",
      "step 460, training accuracy 0.878788, cost 15.8281, change in cost 0.0524998\n",
      "step 470, training accuracy 0.878788, cost 15.7769, change in cost 0.0512133\n",
      "step 480, training accuracy 0.878788, cost 15.7269, change in cost 0.0499926\n",
      "step 490, training accuracy 0.878788, cost 15.6781, change in cost 0.0488291\n",
      "step 500, training accuracy 0.878788, cost 15.6303, change in cost 0.0477219\n",
      "step 510, training accuracy 0.878788, cost 15.5837, change in cost 0.0466652\n",
      "step 520, training accuracy 0.878788, cost 15.538, change in cost 0.0456553\n",
      "step 530, training accuracy 0.888889, cost 15.4933, change in cost 0.044692\n",
      "step 540, training accuracy 0.89899, cost 15.4496, change in cost 0.043766\n",
      "step 550, training accuracy 0.89899, cost 15.4067, change in cost 0.0428801\n",
      "step 560, training accuracy 0.89899, cost 15.3647, change in cost 0.0420284\n",
      "step 570, training accuracy 0.89899, cost 15.3234, change in cost 0.0412111\n",
      "step 580, training accuracy 0.89899, cost 15.283, change in cost 0.0404263\n",
      "step 590, training accuracy 0.909091, cost 15.2433, change in cost 0.0396681\n",
      "step 600, training accuracy 0.909091, cost 15.2044, change in cost 0.0389404\n",
      "step 610, training accuracy 0.909091, cost 15.1662, change in cost 0.0382366\n",
      "step 620, training accuracy 0.909091, cost 15.1286, change in cost 0.0375576\n",
      "step 630, training accuracy 0.909091, cost 15.0917, change in cost 0.0369015\n",
      "step 640, training accuracy 0.909091, cost 15.0554, change in cost 0.0362682\n",
      "step 650, training accuracy 0.909091, cost 15.0198, change in cost 0.0356579\n",
      "step 660, training accuracy 0.909091, cost 14.9847, change in cost 0.0350618\n",
      "step 670, training accuracy 0.909091, cost 14.9502, change in cost 0.0344896\n",
      "step 680, training accuracy 0.909091, cost 14.9163, change in cost 0.0339298\n",
      "step 690, training accuracy 0.909091, cost 14.8829, change in cost 0.033392\n",
      "step 700, training accuracy 0.909091, cost 14.85, change in cost 0.0328674\n",
      "step 710, training accuracy 0.909091, cost 14.8177, change in cost 0.0323591\n",
      "step 720, training accuracy 0.909091, cost 14.7858, change in cost 0.0318623\n",
      "step 730, training accuracy 0.909091, cost 14.7544, change in cost 0.0313845\n",
      "step 740, training accuracy 0.909091, cost 14.7235, change in cost 0.0309143\n",
      "step 750, training accuracy 0.909091, cost 14.6931, change in cost 0.0304604\n",
      "step 760, training accuracy 0.909091, cost 14.663, change in cost 0.0300179\n",
      "step 770, training accuracy 0.909091, cost 14.6335, change in cost 0.0295877\n",
      "step 780, training accuracy 0.909091, cost 14.6043, change in cost 0.0291662\n",
      "step 790, training accuracy 0.909091, cost 14.5755, change in cost 0.0287571\n",
      "step 800, training accuracy 0.909091, cost 14.5472, change in cost 0.0283575\n",
      "step 810, training accuracy 0.909091, cost 14.5192, change in cost 0.0279694\n",
      "step 820, training accuracy 0.909091, cost 14.4916, change in cost 0.0275879\n",
      "step 830, training accuracy 0.909091, cost 14.4644, change in cost 0.0272179\n",
      "step 840, training accuracy 0.909091, cost 14.4375, change in cost 0.0268545\n",
      "step 850, training accuracy 0.919192, cost 14.411, change in cost 0.0265036\n",
      "step 860, training accuracy 0.919192, cost 14.3849, change in cost 0.0261555\n",
      "step 870, training accuracy 0.919192, cost 14.3591, change in cost 0.0258179\n",
      "step 880, training accuracy 0.919192, cost 14.3336, change in cost 0.0254879\n",
      "step 890, training accuracy 0.919192, cost 14.3084, change in cost 0.0251627\n",
      "step 900, training accuracy 0.919192, cost 14.2836, change in cost 0.0248499\n",
      "step 910, training accuracy 0.919192, cost 14.259, change in cost 0.024539\n",
      "step 920, training accuracy 0.929293, cost 14.2348, change in cost 0.0242357\n",
      "step 930, training accuracy 0.929293, cost 14.2109, change in cost 0.023941\n",
      "step 940, training accuracy 0.929293, cost 14.1872, change in cost 0.0236492\n",
      "step 950, training accuracy 0.929293, cost 14.1638, change in cost 0.023366\n",
      "step 960, training accuracy 0.939394, cost 14.1408, change in cost 0.0230875\n",
      "step 970, training accuracy 0.939394, cost 14.1179, change in cost 0.0228138\n",
      "step 980, training accuracy 0.939394, cost 14.0954, change in cost 0.0225458\n",
      "step 990, training accuracy 0.939394, cost 14.0731, change in cost 0.0222855\n",
      "step 1000, training accuracy 0.939394, cost 14.0511, change in cost 0.0220251\n",
      "step 1010, training accuracy 0.939394, cost 14.0293, change in cost 0.0217752\n",
      "step 1020, training accuracy 0.939394, cost 14.0078, change in cost 0.0215254\n",
      "step 1030, training accuracy 0.939394, cost 13.9865, change in cost 0.0212841\n",
      "step 1040, training accuracy 0.939394, cost 13.9655, change in cost 0.0210457\n",
      "step 1050, training accuracy 0.939394, cost 13.9446, change in cost 0.020812\n",
      "step 1060, training accuracy 0.939394, cost 13.9241, change in cost 0.0205812\n",
      "step 1070, training accuracy 0.939394, cost 13.9037, change in cost 0.0203571\n",
      "step 1080, training accuracy 0.939394, cost 13.8836, change in cost 0.0201368\n",
      "step 1090, training accuracy 0.939394, cost 13.8636, change in cost 0.0199175\n",
      "step 1100, training accuracy 0.939394, cost 13.8439, change in cost 0.0197029\n",
      "step 1110, training accuracy 0.939394, cost 13.8244, change in cost 0.0194941\n",
      "step 1120, training accuracy 0.939394, cost 13.8052, change in cost 0.019289\n",
      "step 1130, training accuracy 0.939394, cost 13.7861, change in cost 0.0190849\n",
      "step 1140, training accuracy 0.939394, cost 13.7672, change in cost 0.0188856\n",
      "step 1150, training accuracy 0.939394, cost 13.7485, change in cost 0.0186901\n",
      "step 1160, training accuracy 0.939394, cost 13.73, change in cost 0.0184984\n",
      "step 1170, training accuracy 0.939394, cost 13.7117, change in cost 0.0183067\n",
      "step 1180, training accuracy 0.939394, cost 13.6936, change in cost 0.0181208\n",
      "step 1190, training accuracy 0.939394, cost 13.6756, change in cost 0.0179396\n",
      "step 1200, training accuracy 0.939394, cost 13.6579, change in cost 0.0177574\n",
      "step 1210, training accuracy 0.939394, cost 13.6403, change in cost 0.017581\n",
      "step 1220, training accuracy 0.939394, cost 13.6229, change in cost 0.0174065\n",
      "step 1230, training accuracy 0.939394, cost 13.6057, change in cost 0.0172338\n",
      "step 1240, training accuracy 0.939394, cost 13.5886, change in cost 0.017066\n",
      "step 1250, training accuracy 0.939394, cost 13.5717, change in cost 0.0169001\n",
      "step 1260, training accuracy 0.939394, cost 13.555, change in cost 0.0167351\n",
      "step 1270, training accuracy 0.939394, cost 13.5384, change in cost 0.0165749\n",
      "step 1280, training accuracy 0.939394, cost 13.522, change in cost 0.0164156\n",
      "step 1290, training accuracy 0.939394, cost 13.5057, change in cost 0.0162582\n",
      "step 1300, training accuracy 0.939394, cost 13.4896, change in cost 0.0161057\n",
      "step 1310, training accuracy 0.939394, cost 13.4736, change in cost 0.015954\n",
      "step 1320, training accuracy 0.939394, cost 13.4578, change in cost 0.0158043\n",
      "step 1330, training accuracy 0.939394, cost 13.4422, change in cost 0.0156555\n",
      "step 1340, training accuracy 0.939394, cost 13.4267, change in cost 0.0155144\n",
      "step 1350, training accuracy 0.939394, cost 13.4113, change in cost 0.0153685\n",
      "step 1360, training accuracy 0.939394, cost 13.3961, change in cost 0.0152283\n",
      "step 1370, training accuracy 0.939394, cost 13.381, change in cost 0.0150909\n",
      "step 1380, training accuracy 0.939394, cost 13.366, change in cost 0.0149508\n",
      "step 1390, training accuracy 0.939394, cost 13.3512, change in cost 0.0148182\n",
      "step 1400, training accuracy 0.939394, cost 13.3365, change in cost 0.0146856\n",
      "step 1410, training accuracy 0.939394, cost 13.322, change in cost 0.0145531\n",
      "step 1420, training accuracy 0.939394, cost 13.3075, change in cost 0.0144272\n",
      "step 1430, training accuracy 0.939394, cost 13.2933, change in cost 0.0142965\n",
      "step 1440, training accuracy 0.939394, cost 13.2791, change in cost 0.0141726\n",
      "step 1450, training accuracy 0.939394, cost 13.265, change in cost 0.0140486\n",
      "step 1460, training accuracy 0.939394, cost 13.2511, change in cost 0.0139265\n",
      "step 1470, training accuracy 0.939394, cost 13.2373, change in cost 0.0138063\n",
      "step 1480, training accuracy 0.939394, cost 13.2236, change in cost 0.0136862\n",
      "step 1490, training accuracy 0.939394, cost 13.21, change in cost 0.0135698\n",
      "step 1500, training accuracy 0.939394, cost 13.1966, change in cost 0.0134554\n",
      "step 1510, training accuracy 0.939394, cost 13.1832, change in cost 0.01334\n",
      "step 1520, training accuracy 0.939394, cost 13.17, change in cost 0.0132265\n",
      "step 1530, training accuracy 0.939394, cost 13.1569, change in cost 0.0131178\n",
      "step 1540, training accuracy 0.939394, cost 13.1439, change in cost 0.0130062\n",
      "step 1550, training accuracy 0.939394, cost 13.131, change in cost 0.0128984\n",
      "step 1560, training accuracy 0.939394, cost 13.1182, change in cost 0.0127916\n",
      "step 1570, training accuracy 0.939394, cost 13.1055, change in cost 0.0126867\n",
      "step 1580, training accuracy 0.939394, cost 13.0929, change in cost 0.0125828\n",
      "step 1590, training accuracy 0.939394, cost 13.0805, change in cost 0.0124798\n",
      "step 1600, training accuracy 0.949495, cost 13.0681, change in cost 0.0123768\n",
      "step 1610, training accuracy 0.949495, cost 13.0558, change in cost 0.0122795\n",
      "step 1620, training accuracy 0.949495, cost 13.0436, change in cost 0.0121794\n",
      "step 1630, training accuracy 0.949495, cost 13.0315, change in cost 0.0120802\n",
      "step 1640, training accuracy 0.949495, cost 13.0196, change in cost 0.0119848\n",
      "step 1650, training accuracy 0.949495, cost 13.0077, change in cost 0.0118904\n",
      "step 1660, training accuracy 0.949495, cost 12.9959, change in cost 0.011796\n",
      "step 1670, training accuracy 0.949495, cost 12.9842, change in cost 0.0117035\n",
      "step 1680, training accuracy 0.949495, cost 12.9726, change in cost 0.011611\n",
      "step 1690, training accuracy 0.949495, cost 12.961, change in cost 0.0115223\n",
      "step 1700, training accuracy 0.949495, cost 12.9496, change in cost 0.0114288\n",
      "step 1710, training accuracy 0.949495, cost 12.9383, change in cost 0.0113449\n",
      "step 1720, training accuracy 0.949495, cost 12.927, change in cost 0.0112543\n",
      "step 1730, training accuracy 0.949495, cost 12.9158, change in cost 0.0111694\n",
      "step 1740, training accuracy 0.949495, cost 12.9048, change in cost 0.0110836\n",
      "step 1750, training accuracy 0.949495, cost 12.8938, change in cost 0.0109997\n",
      "step 1760, training accuracy 0.949495, cost 12.8828, change in cost 0.0109167\n",
      "step 1770, training accuracy 0.949495, cost 12.872, change in cost 0.0108337\n",
      "step 1780, training accuracy 0.949495, cost 12.8612, change in cost 0.0107536\n",
      "step 1790, training accuracy 0.949495, cost 12.8506, change in cost 0.0106726\n",
      "step 1800, training accuracy 0.949495, cost 12.84, change in cost 0.0105934\n",
      "step 1810, training accuracy 0.949495, cost 12.8295, change in cost 0.0105133\n",
      "step 1820, training accuracy 0.949495, cost 12.819, change in cost 0.010437\n",
      "step 1830, training accuracy 0.949495, cost 12.8087, change in cost 0.0103626\n",
      "step 1840, training accuracy 0.949495, cost 12.7984, change in cost 0.0102835\n",
      "step 1850, training accuracy 0.949495, cost 12.7882, change in cost 0.0102081\n",
      "step 1860, training accuracy 0.949495, cost 12.778, change in cost 0.0101357\n",
      "step 1870, training accuracy 0.949495, cost 12.768, change in cost 0.0100613\n",
      "step 1880, training accuracy 0.949495, cost 12.758, change in cost 0.00998878\n",
      "step 1890, training accuracy 0.949495, cost 12.7481, change in cost 0.00991821\n",
      "step 1900, training accuracy 0.949495, cost 12.7382, change in cost 0.00984669\n",
      "step 1910, training accuracy 0.949495, cost 12.7284, change in cost 0.00977707\n",
      "step 1920, training accuracy 0.949495, cost 12.7187, change in cost 0.0097084\n",
      "step 1930, training accuracy 0.949495, cost 12.7091, change in cost 0.00963974\n",
      "step 1940, training accuracy 0.949495, cost 12.6995, change in cost 0.00957012\n",
      "step 1950, training accuracy 0.949495, cost 12.69, change in cost 0.00950336\n",
      "step 1960, training accuracy 0.949495, cost 12.6806, change in cost 0.00943851\n",
      "step 1970, training accuracy 0.949495, cost 12.6712, change in cost 0.00937176\n",
      "step 1980, training accuracy 0.949495, cost 12.6619, change in cost 0.00930786\n",
      "step 1990, training accuracy 0.949495, cost 12.6527, change in cost 0.00924397\n",
      "final accuracy on test set: 1.0\n"
     ]
    }
   ],
   "source": [
    "# Initialize reporting variables\n",
    "cost = 0\n",
    "diff = 1\n",
    "epoch_values = []\n",
    "accuracy_values = []\n",
    "cost_values = []\n",
    "\n",
    "# Training epochs\n",
    "for i in range(numEpochs):\n",
    "    if i > 1 and diff < .0001:\n",
    "        print(\"change in cost %g; convergence.\"%diff)\n",
    "        break\n",
    "    else:\n",
    "        # Run training step\n",
    "        step = sess.run(training_OP, feed_dict={X: trainX, yGold: trainY})\n",
    "        # Report occasional stats\n",
    "        if i % 10 == 0:\n",
    "            # Add epoch to epoch_values\n",
    "            epoch_values.append(i)\n",
    "            # Generate accuracy stats on test data\n",
    "            train_accuracy, newCost = sess.run([accuracy_OP, cost_OP], feed_dict={X: trainX, yGold: trainY})\n",
    "            # Add accuracy to live graphing variable\n",
    "            accuracy_values.append(train_accuracy)\n",
    "            # Add cost to live graphing variable\n",
    "            cost_values.append(newCost)\n",
    "            # Re-assign values for variables\n",
    "            diff = abs(newCost - cost)\n",
    "            cost = newCost\n",
    "\n",
    "            #generate print statements\n",
    "            print(\"step %d, training accuracy %g, cost %g, change in cost %g\"%(i, train_accuracy, newCost, diff))\n",
    "\n",
    "\n",
    "# How well do we perform on held-out test data?\n",
    "print(\"final accuracy on test set: %s\" %str(sess.run(accuracy_OP, \n",
    "                                                     feed_dict={X: testX, \n",
    "                                                                yGold: testY})))"
   ]
  },
  {
   "cell_type": "markdown",
   "metadata": {},
   "source": [
    "<b>Why don't we plot the cost to see how it behaves?</b>"
   ]
  },
  {
   "cell_type": "code",
   "execution_count": 19,
   "metadata": {},
   "outputs": [
    {
     "data": {
      "image/png": "[encoded data removed]",
      "text/plain": [
       "<Figure size 432x288 with 1 Axes>"
      ]
     },
     "metadata": {
      "needs_background": "light"
     },
     "output_type": "display_data"
    }
   ],
   "source": [
    "%matplotlib inline\n",
    "import numpy as np\n",
    "import matplotlib.pyplot as plt\n",
    "plt.plot([np.mean(cost_values[i-50:i]) for i in range(len(cost_values))])\n",
    "plt.show()"
   ]
  },
  {
   "cell_type": "markdown",
   "metadata": {},
   "source": [
    "Assuming no parameters were changed, you should reach a peak accuracy of 90% at the end of training, which is commendable. Try changing the parameters such as the length of training, and maybe some operations to see how the model behaves. Does it take much longer? How is the performance?"
   ]
  },
  {
   "cell_type": "markdown",
   "metadata": {},
   "source": [
    "<hr>"
   ]
  },
  {
   "cell_type": "markdown",
   "metadata": {},
   "source": [
    "## Want to learn more?\n",
    "\n",
    "Running deep learning programs usually needs a high performance platform. __PowerAI__ speeds up deep learning and AI. Built on IBM’s Power Systems, __PowerAI__ is a scalable software platform that accelerates deep learning and AI with blazing performance for individual users or enterprises. The __PowerAI__ platform supports popular machine learning libraries and dependencies including TensorFlow, Caffe, Torch, and Theano. You can use [PowerAI on IMB Cloud](https://cocl.us/ML0120EN_PAI).\n",
    "\n",
    "Also, you can use __Watson Studio__ to run these notebooks faster with bigger datasets.__Watson Studio__ is IBM’s leading cloud solution for data scientists, built by data scientists. With Jupyter notebooks, RStudio, Apache Spark and popular libraries pre-packaged in the cloud, __Watson Studio__ enables data scientists to collaborate on their projects without having to install anything. Join the fast-growing community of __Watson Studio__ users today with a free account at [Watson Studio](https://cocl.us/ML0120EN_DSX).This is the end of this lesson. Thank you for reading this notebook, and good luck on your studies."
   ]
  },
  {
   "cell_type": "markdown",
   "metadata": {},
   "source": [
    "### Thanks for completing this lesson!\n",
    "\n",
    "This is the end of **Logistic Regression with TensorFlow** notebook. Hopefully, now you have a deeper understanding of Logistic Regression and how its structure and flow work. Thank you for reading this notebook and good luck on your studies."
   ]
  },
  {
   "cell_type": "markdown",
   "metadata": {},
   "source": [
    "Created by: <a href=\"https://br.linkedin.com/in/walter-gomes-de-amorim-junior-624726121\">Saeed Aghabozorgi</a> , <a href=\"https://br.linkedin.com/in/walter-gomes-de-amorim-junior-624726121\">Walter Gomes de Amorim Junior</a> ,  Victor Barros Costa\n"
   ]
  },
  {
   "cell_type": "markdown",
   "metadata": {},
   "source": [
    "<hr>\n",
    "\n",
    "Copyright &copy; 2018 [Cognitive Class](https://cocl.us/DX0108EN_CC). This notebook and its source code are released under the terms of the [MIT License](https://bigdatauniversity.com/mit-license/)."
   ]
  }
 ],
 "metadata": {
  "kernelspec": {
   "display_name": "Python",
   "language": "python",
   "name": "conda-env-python-py"
  },
  "language_info": {
   "codemirror_mode": {
    "name": "ipython",
    "version": 3
   },
   "file_extension": ".py",
   "mimetype": "text/x-python",
   "name": "python",
   "nbconvert_exporter": "python",
   "pygments_lexer": "ipython3",
   "version": "3.6.10"
  }
 },
 "nbformat": 4,
 "nbformat_minor": 4
}
